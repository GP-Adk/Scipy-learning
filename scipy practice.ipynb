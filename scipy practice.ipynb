{
 "cells": [
  {
   "cell_type": "markdown",
   "metadata": {},
   "source": [
    "### 1) Basic Polynomial "
   ]
  },
  {
   "cell_type": "code",
   "execution_count": 5,
   "metadata": {},
   "outputs": [
    {
     "name": "stdout",
     "output_type": "stream",
     "text": [
      "   2\n",
      "3 x + 5 x + 7\n"
     ]
    }
   ],
   "source": [
    "from numpy import poly1d\n",
    "p = poly1d([3,5,7])\n",
    "print(p)"
   ]
  },
  {
   "cell_type": "code",
   "execution_count": 3,
   "metadata": {},
   "outputs": [
    {
     "name": "stdout",
     "output_type": "stream",
     "text": [
      "   4      3      2\n",
      "9 x + 30 x + 67 x + 70 x + 49\n"
     ]
    }
   ],
   "source": [
    "print(p*p)"
   ]
  },
  {
   "cell_type": "code",
   "execution_count": 6,
   "metadata": {},
   "outputs": [
    {
     "name": "stdout",
     "output_type": "stream",
     "text": [
      "   2\n",
      "3 x + 5 x + 7\n",
      "p(2)=  29\n",
      "p(2) and p(3) =  [29 49]\n"
     ]
    }
   ],
   "source": [
    "print(p)\n",
    "print(\"p(2)= \",p(2))\n",
    "print(\"p(2) and p(3) = \", p([2,3]))"
   ]
  },
  {
   "cell_type": "code",
   "execution_count": 7,
   "metadata": {},
   "outputs": [
    {
     "data": {
      "text/plain": [
       "array([-0.83333333+1.28019096j, -0.83333333-1.28019096j])"
      ]
     },
     "execution_count": 7,
     "metadata": {},
     "output_type": "execute_result"
    }
   ],
   "source": [
    "#root of p\n",
    "p.r"
   ]
  },
  {
   "cell_type": "code",
   "execution_count": 8,
   "metadata": {},
   "outputs": [
    {
     "data": {
      "text/plain": [
       "poly1d([3, 5, 7])"
      ]
     },
     "execution_count": 8,
     "metadata": {},
     "output_type": "execute_result"
    }
   ],
   "source": [
    "#coefficient of p\n",
    "p"
   ]
  },
  {
   "cell_type": "code",
   "execution_count": 11,
   "metadata": {},
   "outputs": [
    {
     "name": "stdout",
     "output_type": "stream",
     "text": [
      "   2\n",
      "3 x + 5 x + 7\n",
      "\n",
      "   2\n",
      "1 y + 2 y + 3\n"
     ]
    }
   ],
   "source": [
    "#change of variable\n",
    "print(p)\n",
    "p1 =poly1d([1,2,3], variable ='y')\n",
    "print()\n",
    "print(p1)"
   ]
  },
  {
   "cell_type": "code",
   "execution_count": 13,
   "metadata": {},
   "outputs": [
    {
     "name": "stdout",
     "output_type": "stream",
     "text": [
      "   3       2\n",
      "1 x + 2.5 x + 7 x + 5\n"
     ]
    }
   ],
   "source": [
    "#intergration of polynomial\n",
    "print(p.integ(k = 5)) #k is integration constant"
   ]
  },
  {
   "cell_type": "code",
   "execution_count": 14,
   "metadata": {},
   "outputs": [
    {
     "name": "stdout",
     "output_type": "stream",
     "text": [
      " \n",
      "6 x + 5\n"
     ]
    }
   ],
   "source": [
    "#differentiation of polynomial\n",
    "print(p.deriv())"
   ]
  },
  {
   "cell_type": "markdown",
   "metadata": {},
   "source": [
    "### 2) Special Function"
   ]
  },
  {
   "cell_type": "code",
   "execution_count": 15,
   "metadata": {},
   "outputs": [],
   "source": [
    "import scipy.special as ss\n",
    "import numpy as np"
   ]
  },
  {
   "cell_type": "code",
   "execution_count": 16,
   "metadata": {},
   "outputs": [
    {
     "data": {
      "text/plain": [
       "array([ 1,  2,  3,  4,  5,  6,  7,  8,  9, 10])"
      ]
     },
     "execution_count": 16,
     "metadata": {},
     "output_type": "execute_result"
    }
   ],
   "source": [
    "a = np.arange(1,11)\n",
    "a"
   ]
  },
  {
   "cell_type": "code",
   "execution_count": 17,
   "metadata": {},
   "outputs": [
    {
     "data": {
      "text/plain": [
       "array([1.        , 1.25992105, 1.44224957, 1.58740105, 1.70997595,\n",
       "       1.81712059, 1.91293118, 2.        , 2.08008382, 2.15443469])"
      ]
     },
     "execution_count": 17,
     "metadata": {},
     "output_type": "execute_result"
    }
   ],
   "source": [
    "#cube root\n",
    "ss.cbrt(a)"
   ]
  },
  {
   "cell_type": "code",
   "execution_count": 18,
   "metadata": {},
   "outputs": [
    {
     "data": {
      "text/plain": [
       "1000.0"
      ]
     },
     "execution_count": 18,
     "metadata": {},
     "output_type": "execute_result"
    }
   ],
   "source": [
    "# Exponent of 10 (exp10())\n",
    "x = 3\n",
    "ss.exp10(x)"
   ]
  },
  {
   "cell_type": "code",
   "execution_count": 19,
   "metadata": {},
   "outputs": [
    {
     "data": {
      "text/plain": [
       "8.0"
      ]
     },
     "execution_count": 19,
     "metadata": {},
     "output_type": "execute_result"
    }
   ],
   "source": [
    "# Exponent of 2 (exp2())\n",
    "ss.exp2(x)"
   ]
  },
  {
   "cell_type": "code",
   "execution_count": 21,
   "metadata": {},
   "outputs": [
    {
     "data": {
      "text/plain": [
       "0.3522171393260779"
      ]
     },
     "execution_count": 21,
     "metadata": {},
     "output_type": "execute_result"
    }
   ],
   "source": [
    "# degree to radian (radian(d,m,s)) (degree,minute,second)\n",
    "d=20\n",
    "m=10\n",
    "s=50\n",
    "ss.radian(d,m,s)\n",
    "\n"
   ]
  },
  {
   "cell_type": "code",
   "execution_count": 22,
   "metadata": {},
   "outputs": [
    {
     "name": "stdout",
     "output_type": "stream",
     "text": [
      "Sine of 30 degree = 0.49999999999999994\n",
      "Cosine of 30 degree = 0.8660254037844387\n",
      "Tan of 30 degree = 0.5773502691896257\n"
     ]
    }
   ],
   "source": [
    "#trigonometric function\n",
    "print(\"Sine of 30 degree =\", ss.sindg(30))\n",
    "print(\"Cosine of 30 degree =\", ss.cosdg(30))\n",
    "print(\"Tan of 30 degree =\", ss.tandg(30))"
   ]
  },
  {
   "cell_type": "code",
   "execution_count": 23,
   "metadata": {},
   "outputs": [
    {
     "data": {
      "text/plain": [
       "20.0"
      ]
     },
     "execution_count": 23,
     "metadata": {},
     "output_type": "execute_result"
    }
   ],
   "source": [
    "#permutation\n",
    "ss.perm(5,2)"
   ]
  },
  {
   "cell_type": "code",
   "execution_count": 24,
   "metadata": {},
   "outputs": [
    {
     "data": {
      "text/plain": [
       "10.0"
      ]
     },
     "execution_count": 24,
     "metadata": {},
     "output_type": "execute_result"
    }
   ],
   "source": [
    "#combination\n",
    "ss.comb(5,2)"
   ]
  },
  {
   "cell_type": "markdown",
   "metadata": {},
   "source": [
    "### 3) Integration (import scipy.integrate)\n",
    "1. quad - single integration\n",
    "1. dblquad - double integration\n",
    "1. tplquad - triple integration\n",
    "1. nquad - n-fold multiple integration\n"
   ]
  },
  {
   "cell_type": "code",
   "execution_count": 25,
   "metadata": {},
   "outputs": [],
   "source": [
    "import scipy.integrate as si"
   ]
  },
  {
   "cell_type": "code",
   "execution_count": 26,
   "metadata": {},
   "outputs": [
    {
     "data": {
      "text/plain": [
       "9"
      ]
     },
     "execution_count": 26,
     "metadata": {},
     "output_type": "execute_result"
    }
   ],
   "source": [
    "def f(x):\n",
    "    return x**2\n",
    "f(3)"
   ]
  },
  {
   "cell_type": "code",
   "execution_count": 27,
   "metadata": {},
   "outputs": [
    {
     "data": {
      "text/plain": [
       "9"
      ]
     },
     "execution_count": 27,
     "metadata": {},
     "output_type": "execute_result"
    }
   ],
   "source": [
    "#lambda function\n",
    "l1 = lambda x:x**2\n",
    "l1(3)"
   ]
  },
  {
   "cell_type": "code",
   "execution_count": 28,
   "metadata": {},
   "outputs": [
    {
     "data": {
      "text/plain": [
       "6"
      ]
     },
     "execution_count": 28,
     "metadata": {},
     "output_type": "execute_result"
    }
   ],
   "source": [
    "l2 = lambda x,y:x*y\n",
    "l2(2,3)"
   ]
  },
  {
   "cell_type": "code",
   "execution_count": 30,
   "metadata": {},
   "outputs": [
    {
     "data": {
      "text/plain": [
       "(2.3333333333333335, 2.590520390792032e-14)"
      ]
     },
     "execution_count": 30,
     "metadata": {},
     "output_type": "execute_result"
    }
   ],
   "source": [
    "# scipy.integrate.quad(func, lower_limit, upper_limit)\n",
    "i1 = si.quad(l1,1,2)\n",
    "i1"
   ]
  },
  {
   "cell_type": "code",
   "execution_count": 33,
   "metadata": {},
   "outputs": [
    {
     "data": {
      "text/plain": [
       "(0.08544233215420485, 9.486004443526858e-16)"
      ]
     },
     "execution_count": 33,
     "metadata": {},
     "output_type": "execute_result"
    }
   ],
   "source": [
    "from numpy import exp\n",
    "f = lambda x:exp(-x**3)\n",
    "i = si.quad(f, 1, 2)\n",
    "i"
   ]
  },
  {
   "cell_type": "code",
   "execution_count": 36,
   "metadata": {},
   "outputs": [
    {
     "data": {
      "text/plain": [
       "(0.010416666666666668, 4.101620128472366e-16)"
      ]
     },
     "execution_count": 36,
     "metadata": {},
     "output_type": "execute_result"
    }
   ],
   "source": [
    "# double integration (used for area under the curve)\n",
    "# scipy.integrate.dblquad(func, lower_limit, upper_limit)\n",
    "area = si.dblquad(lambda x, y : x*y, 0,0.5, lambda x:0, lambda y: 1-2*y)\n",
    "area\n"
   ]
  },
  {
   "cell_type": "markdown",
   "metadata": {},
   "source": [
    "### 4) Linear Algebra (import scipy.linalg)"
   ]
  },
  {
   "cell_type": "code",
   "execution_count": 39,
   "metadata": {},
   "outputs": [],
   "source": [
    "from scipy import linalg as lg"
   ]
  },
  {
   "cell_type": "code",
   "execution_count": 40,
   "metadata": {},
   "outputs": [
    {
     "data": {
      "text/plain": [
       "array([[1, 2],\n",
       "       [3, 4]])"
      ]
     },
     "execution_count": 40,
     "metadata": {},
     "output_type": "execute_result"
    }
   ],
   "source": [
    "a1 = np.array([[1,2],[3,4]])\n",
    "a1"
   ]
  },
  {
   "cell_type": "code",
   "execution_count": 41,
   "metadata": {},
   "outputs": [
    {
     "data": {
      "text/plain": [
       "-2.0"
      ]
     },
     "execution_count": 41,
     "metadata": {},
     "output_type": "execute_result"
    }
   ],
   "source": [
    "# determinant of matrix\n",
    "lg.det(a1)"
   ]
  },
  {
   "cell_type": "markdown",
   "metadata": {},
   "source": [
    "Compute pivoted LU decomposition of matrix\n",
    "The decompostion is:\n",
    "$$A = PLU$$\n",
    "where P is permutation matrix, L is lower triangular with unit diagonal elements, and U upper triangar."
   ]
  },
  {
   "cell_type": "code",
   "execution_count": 59,
   "metadata": {},
   "outputs": [
    {
     "data": {
      "text/plain": [
       "array([[1, 2, 3],\n",
       "       [4, 5, 6],\n",
       "       [7, 8, 8]])"
      ]
     },
     "execution_count": 59,
     "metadata": {},
     "output_type": "execute_result"
    }
   ],
   "source": [
    "A = np.array([[1,2,3],[4,5,6], [7,8,8]])\n",
    "A"
   ]
  },
  {
   "cell_type": "code",
   "execution_count": 60,
   "metadata": {},
   "outputs": [],
   "source": [
    "P, L, U = lg.lu(A)"
   ]
  },
  {
   "cell_type": "code",
   "execution_count": 61,
   "metadata": {},
   "outputs": [
    {
     "data": {
      "text/plain": [
       "array([[0., 1., 0.],\n",
       "       [0., 0., 1.],\n",
       "       [1., 0., 0.]])"
      ]
     },
     "execution_count": 61,
     "metadata": {},
     "output_type": "execute_result"
    }
   ],
   "source": [
    "P"
   ]
  },
  {
   "cell_type": "code",
   "execution_count": 62,
   "metadata": {},
   "outputs": [
    {
     "data": {
      "text/plain": [
       "array([[1.        , 0.        , 0.        ],\n",
       "       [0.14285714, 1.        , 0.        ],\n",
       "       [0.57142857, 0.5       , 1.        ]])"
      ]
     },
     "execution_count": 62,
     "metadata": {},
     "output_type": "execute_result"
    }
   ],
   "source": [
    "L"
   ]
  },
  {
   "cell_type": "code",
   "execution_count": 63,
   "metadata": {},
   "outputs": [
    {
     "data": {
      "text/plain": [
       "array([[7.        , 8.        , 8.        ],\n",
       "       [0.        , 0.85714286, 1.85714286],\n",
       "       [0.        , 0.        , 0.5       ]])"
      ]
     },
     "execution_count": 63,
     "metadata": {},
     "output_type": "execute_result"
    }
   ],
   "source": [
    "U"
   ]
  },
  {
   "cell_type": "markdown",
   "metadata": {},
   "source": [
    "We can find the eigen vector and eigen values of a matrix:"
   ]
  },
  {
   "cell_type": "code",
   "execution_count": 64,
   "metadata": {},
   "outputs": [],
   "source": [
    "EV, EW = lg.eig(A)"
   ]
  },
  {
   "cell_type": "code",
   "execution_count": 65,
   "metadata": {},
   "outputs": [
    {
     "data": {
      "text/plain": [
       "array([15.55528261+0.j, -1.41940876+0.j, -0.13587385+0.j])"
      ]
     },
     "execution_count": 65,
     "metadata": {},
     "output_type": "execute_result"
    }
   ],
   "source": [
    "#Eigen Values\n",
    "EV"
   ]
  },
  {
   "cell_type": "code",
   "execution_count": 66,
   "metadata": {},
   "outputs": [
    {
     "data": {
      "text/plain": [
       "array([[-0.24043423, -0.67468642,  0.51853459],\n",
       "       [-0.54694322, -0.23391616, -0.78895962],\n",
       "       [-0.80190056,  0.70005819,  0.32964312]])"
      ]
     },
     "execution_count": 66,
     "metadata": {},
     "output_type": "execute_result"
    }
   ],
   "source": [
    "#Eigen Vector\n",
    "EW"
   ]
  },
  {
   "cell_type": "markdown",
   "metadata": {},
   "source": [
    "Solving system of linear quation can also be done:"
   ]
  },
  {
   "cell_type": "code",
   "execution_count": 67,
   "metadata": {},
   "outputs": [
    {
     "data": {
      "text/plain": [
       "array([[2],\n",
       "       [3],\n",
       "       [5]])"
      ]
     },
     "execution_count": 67,
     "metadata": {},
     "output_type": "execute_result"
    }
   ],
   "source": [
    "B = np.array([[2],[3],[5]])\n",
    "B"
   ]
  },
  {
   "cell_type": "code",
   "execution_count": 68,
   "metadata": {},
   "outputs": [
    {
     "data": {
      "text/plain": [
       "array([[1, 2, 3],\n",
       "       [4, 5, 6],\n",
       "       [7, 8, 8]])"
      ]
     },
     "execution_count": 68,
     "metadata": {},
     "output_type": "execute_result"
    }
   ],
   "source": [
    "A"
   ]
  },
  {
   "cell_type": "code",
   "execution_count": 69,
   "metadata": {},
   "outputs": [
    {
     "data": {
      "text/plain": [
       "array([[-2.33333333],\n",
       "       [ 3.66666667],\n",
       "       [-1.        ]])"
      ]
     },
     "execution_count": 69,
     "metadata": {},
     "output_type": "execute_result"
    }
   ],
   "source": [
    "#solve the linear equation using matrix AX=B, using lg.solve()\n",
    "x = lg.solve(A,B)\n",
    "x\n"
   ]
  },
  {
   "cell_type": "markdown",
   "metadata": {},
   "source": [
    "Inverse of matrix"
   ]
  },
  {
   "cell_type": "code",
   "execution_count": 70,
   "metadata": {},
   "outputs": [
    {
     "data": {
      "text/plain": [
       "array([[1, 2, 3],\n",
       "       [4, 5, 6],\n",
       "       [7, 8, 8]])"
      ]
     },
     "execution_count": 70,
     "metadata": {},
     "output_type": "execute_result"
    }
   ],
   "source": [
    "A"
   ]
  },
  {
   "cell_type": "code",
   "execution_count": 72,
   "metadata": {},
   "outputs": [
    {
     "data": {
      "text/plain": [
       "array([[-2.66666667,  2.66666667, -1.        ],\n",
       "       [ 3.33333333, -4.33333333,  2.        ],\n",
       "       [-1.        ,  2.        , -1.        ]])"
      ]
     },
     "execution_count": 72,
     "metadata": {},
     "output_type": "execute_result"
    }
   ],
   "source": [
    "# inverse: lg.inv()\n",
    "lg.inv(A)"
   ]
  },
  {
   "cell_type": "code",
   "execution_count": 74,
   "metadata": {},
   "outputs": [
    {
     "data": {
      "text/plain": [
       "array([[1.0000000e+00, 0.0000000e+00, 0.0000000e+00],\n",
       "       [8.8817842e-16, 1.0000000e+00, 8.8817842e-16],\n",
       "       [0.0000000e+00, 0.0000000e+00, 1.0000000e+00]])"
      ]
     },
     "execution_count": 74,
     "metadata": {},
     "output_type": "execute_result"
    }
   ],
   "source": [
    "#cross check\n",
    "# A*inv(A) = I\n",
    "I = A.dot(lg.inv(A))\n",
    "I"
   ]
  },
  {
   "cell_type": "code",
   "execution_count": 75,
   "metadata": {},
   "outputs": [
    {
     "data": {
      "text/plain": [
       "array([[1, 3, 5],\n",
       "       [2, 5, 1],\n",
       "       [2, 3, 8]])"
      ]
     },
     "execution_count": 75,
     "metadata": {},
     "output_type": "execute_result"
    }
   ],
   "source": [
    "C = np.array([[1,3,5],[2,5,1],[2,3,8]])\n",
    "C"
   ]
  },
  {
   "cell_type": "code",
   "execution_count": 76,
   "metadata": {},
   "outputs": [
    {
     "data": {
      "text/plain": [
       "array([[-1.48,  0.36,  0.88],\n",
       "       [ 0.56,  0.08, -0.36],\n",
       "       [ 0.16, -0.12,  0.04]])"
      ]
     },
     "execution_count": 76,
     "metadata": {},
     "output_type": "execute_result"
    }
   ],
   "source": [
    "lg.inv(C)"
   ]
  },
  {
   "cell_type": "code",
   "execution_count": 79,
   "metadata": {},
   "outputs": [
    {
     "name": "stdout",
     "output_type": "stream",
     "text": [
      "[[ 1. -0. -0.]\n",
      " [ 0.  1.  0.]\n",
      " [ 0. -0.  1.]]\n"
     ]
    }
   ],
   "source": [
    "I = C.dot(lg.inv(C))\n",
    "print(np.around(I))"
   ]
  },
  {
   "cell_type": "markdown",
   "metadata": {},
   "source": [
    "### 5) Fourier Transformation (import scipy.fftpack)"
   ]
  },
  {
   "cell_type": "code",
   "execution_count": 86,
   "metadata": {},
   "outputs": [],
   "source": [
    "import scipy.fftpack "
   ]
  },
  {
   "cell_type": "code",
   "execution_count": 87,
   "metadata": {},
   "outputs": [
    {
     "data": {
      "text/plain": [
       "array([ 1,  5,  6, 14, 25, 40])"
      ]
     },
     "execution_count": 87,
     "metadata": {},
     "output_type": "execute_result"
    }
   ],
   "source": [
    "a = np.array([1,5,6,14,25,40])\n",
    "a"
   ]
  },
  {
   "cell_type": "code",
   "execution_count": 89,
   "metadata": {},
   "outputs": [
    {
     "data": {
      "text/plain": [
       "array([ 91. -0.j        ,  -6.+46.7653718j , -23.+13.85640646j,\n",
       "       -27. -0.j        , -23.-13.85640646j,  -6.-46.7653718j ])"
      ]
     },
     "execution_count": 89,
     "metadata": {},
     "output_type": "execute_result"
    }
   ],
   "source": [
    "#fourier transform\n",
    "y = scipy.fftpack.fft(a)\n",
    "y"
   ]
  },
  {
   "cell_type": "code",
   "execution_count": 90,
   "metadata": {},
   "outputs": [
    {
     "data": {
      "text/plain": [
       "array([15.16666667-0.j        , -1.        -7.79422863j,\n",
       "       -3.83333333-2.30940108j, -4.5       -0.j        ,\n",
       "       -3.83333333+2.30940108j, -1.        +7.79422863j])"
      ]
     },
     "execution_count": 90,
     "metadata": {},
     "output_type": "execute_result"
    }
   ],
   "source": [
    "# inverse fourier transform\n",
    "invy = scipy.fftpack.ifft(a)\n",
    "invy"
   ]
  },
  {
   "cell_type": "code",
   "execution_count": 91,
   "metadata": {},
   "outputs": [
    {
     "name": "stdout",
     "output_type": "stream",
     "text": [
      "[ 1.+0.j  5.+0.j  6.-0.j 14.+0.j 25.+0.j 40.+0.j]\n",
      "\n",
      "[ 1  5  6 14 25 40]\n"
     ]
    }
   ],
   "source": [
    "# cross check verification\n",
    "i = scipy.fftpack.fft(invy)\n",
    "print(i)\n",
    "print()\n",
    "print(a)"
   ]
  },
  {
   "cell_type": "markdown",
   "metadata": {},
   "source": [
    "### 6) Interpolation (import scipy.interpolate)"
   ]
  },
  {
   "cell_type": "code",
   "execution_count": 94,
   "metadata": {},
   "outputs": [],
   "source": [
    "from scipy.interpolate import interp1d\n",
    "import matplotlib.pyplot as plt"
   ]
  },
  {
   "cell_type": "code",
   "execution_count": 119,
   "metadata": {},
   "outputs": [
    {
     "data": {
      "image/png": "[encoded data removed]",
      "text/plain": [
       "<Figure size 432x288 with 1 Axes>"
      ]
     },
     "metadata": {
      "needs_background": "light"
     },
     "output_type": "display_data"
    }
   ],
   "source": [
    "x = np.arange(0,6,1)\n",
    "y = np.array([0.1,0.2,0.3,0.5,1.0,0.9])\n",
    "xp = np.linspace(0,5,100)\n",
    "\n",
    "#for linear interpolation\n",
    "y1 = interp1d(x,y, kind = 'linear')\n",
    "plt.plot(xp,y1(xp),'b-')\n",
    "\n",
    "# #for quadratic interpolation\n",
    "y2 = interp1d(x,y, kind = 'quadratic')\n",
    "plt.plot(xp,y2(xp),'r:')\n",
    "\n",
    "#for cubic interpolation\n",
    "y3 = interp1d(x,y, kind = 'cubic')\n",
    "plt.plot(xp,y3(xp),'g+')\n",
    "\n",
    "plt.legend([\"points\",\"linear\",\"quadratic\",\"cubic\"])\n",
    "plt.show()"
   ]
  },
  {
   "cell_type": "markdown",
   "metadata": {},
   "source": [
    "### 7) Statistics (import scipy.stats)"
   ]
  },
  {
   "cell_type": "code",
   "execution_count": 99,
   "metadata": {},
   "outputs": [
    {
     "name": "stdout",
     "output_type": "stream",
     "text": [
      "<class 'numpy.ndarray'>\n"
     ]
    }
   ],
   "source": [
    "from scipy.stats import norm\n",
    "#this gives us a numpy array with 500 elements,\n",
    "#randomly valued according to the standard normal distribution (mean = 0, std = 1)\n",
    "\n",
    "x_norm = norm.rvs(size = 5000)\n",
    "print(type(x_norm))"
   ]
  },
  {
   "cell_type": "code",
   "execution_count": 100,
   "metadata": {},
   "outputs": [
    {
     "data": {
      "text/plain": [
       "(0.0, 1.0, 1.0)"
      ]
     },
     "execution_count": 100,
     "metadata": {},
     "output_type": "execute_result"
    }
   ],
   "source": [
    "norm.mean(), norm.std(), norm.var()"
   ]
  },
  {
   "cell_type": "code",
   "execution_count": 101,
   "metadata": {},
   "outputs": [
    {
     "data": {
      "text/plain": [
       "array([0.84134475, 0.15865525, 0.5       , 0.84134475, 0.9986501 ,\n",
       "       0.99996833, 0.02275013, 1.        ])"
      ]
     },
     "execution_count": 101,
     "metadata": {},
     "output_type": "execute_result"
    }
   ],
   "source": [
    "#CDF: Continuous Distribution Function\n",
    "norm.cdf(np.array([1,-1.,0,1,3,4,-2,6]))"
   ]
  },
  {
   "cell_type": "code",
   "execution_count": 102,
   "metadata": {},
   "outputs": [
    {
     "data": {
      "text/plain": [
       "0.0"
      ]
     },
     "execution_count": 102,
     "metadata": {},
     "output_type": "execute_result"
    }
   ],
   "source": [
    "#PPF: Percent Point Function, it is the reverse of CDF\n",
    "norm.ppf(0.5)"
   ]
  },
  {
   "cell_type": "code",
   "execution_count": 103,
   "metadata": {},
   "outputs": [
    {
     "name": "stdout",
     "output_type": "stream",
     "text": [
      "9,1,5.0,6.666666666666667\n"
     ]
    }
   ],
   "source": [
    "x = np.array([1,2,3,4,5,6,7,8,9])\n",
    "print(x.max(), x.min(), x.mean(), x.var(), sep=\",\")"
   ]
  },
  {
   "cell_type": "code",
   "execution_count": 104,
   "metadata": {},
   "outputs": [
    {
     "name": "stdout",
     "output_type": "stream",
     "text": [
      "Geometrical Mean is:  4.641588833612778\n"
     ]
    }
   ],
   "source": [
    "#Geometrical Mean\n",
    "from scipy.stats.mstats import gmean\n",
    "g = gmean([1,5,20])\n",
    "print(\"Geometrical Mean is: \",g)"
   ]
  },
  {
   "cell_type": "code",
   "execution_count": 105,
   "metadata": {},
   "outputs": [
    {
     "name": "stdout",
     "output_type": "stream",
     "text": [
      "Geometrical Mean is:  2.4\n"
     ]
    }
   ],
   "source": [
    "#Harmonic Mean\n",
    "from scipy.stats.mstats import hmean\n",
    "h = hmean([1,5,20])\n",
    "print(\"Geometrical Mean is: \",h) "
   ]
  },
  {
   "cell_type": "code",
   "execution_count": 107,
   "metadata": {},
   "outputs": [
    {
     "name": "stdout",
     "output_type": "stream",
     "text": [
      "Arithmetic Mean is:  ModeResult(mode=array([3]), count=array([2]))\n"
     ]
    }
   ],
   "source": [
    "#Mode\n",
    "from scipy import stats\n",
    "arr1 = np.array([1,3,15,11,9,3])\n",
    "print(\"Arithmetic Mean is: \", stats.mode(arr1))"
   ]
  },
  {
   "cell_type": "markdown",
   "metadata": {},
   "source": [
    "### 8) Miscellaneous\n",
    "#### Scientific Constant"
   ]
  },
  {
   "cell_type": "code",
   "execution_count": 108,
   "metadata": {},
   "outputs": [
    {
     "data": {
      "text/plain": [
       "['Angstrom star',\n",
       " 'Avogadro constant',\n",
       " 'Bohr magneton',\n",
       " 'Bohr magneton in Hz/T',\n",
       " 'Bohr magneton in K/T',\n",
       " 'Bohr magneton in eV/T',\n",
       " 'Bohr magneton in inverse meter per tesla',\n",
       " 'Bohr radius',\n",
       " 'Boltzmann constant',\n",
       " 'Boltzmann constant in Hz/K',\n",
       " 'Boltzmann constant in eV/K',\n",
       " 'Boltzmann constant in inverse meter per kelvin',\n",
       " 'Compton wavelength',\n",
       " 'Cu x unit',\n",
       " 'Faraday constant',\n",
       " 'Fermi coupling constant',\n",
       " 'Hartree energy',\n",
       " 'Hartree energy in eV',\n",
       " 'Josephson constant',\n",
       " 'Loschmidt constant (273.15 K, 100 kPa)',\n",
       " 'Loschmidt constant (273.15 K, 101.325 kPa)',\n",
       " 'Mo x unit',\n",
       " 'Newtonian constant of gravitation',\n",
       " 'Newtonian constant of gravitation over h-bar c',\n",
       " 'Planck constant',\n",
       " 'Planck constant in eV/Hz',\n",
       " 'Planck length',\n",
       " 'Planck mass',\n",
       " 'Planck mass energy equivalent in GeV',\n",
       " 'Planck temperature',\n",
       " 'Planck time',\n",
       " 'Rydberg constant',\n",
       " 'Rydberg constant times c in Hz',\n",
       " 'Rydberg constant times hc in J',\n",
       " 'Rydberg constant times hc in eV',\n",
       " 'Sackur-Tetrode constant (1 K, 100 kPa)',\n",
       " 'Sackur-Tetrode constant (1 K, 101.325 kPa)',\n",
       " 'Stefan-Boltzmann constant',\n",
       " 'Thomson cross section',\n",
       " 'W to Z mass ratio',\n",
       " 'Wien frequency displacement law constant',\n",
       " 'Wien wavelength displacement law constant',\n",
       " 'alpha particle mass',\n",
       " 'alpha particle mass energy equivalent',\n",
       " 'alpha particle mass energy equivalent in MeV',\n",
       " 'alpha particle mass in u',\n",
       " 'alpha particle molar mass',\n",
       " 'alpha particle relative atomic mass',\n",
       " 'alpha particle-electron mass ratio',\n",
       " 'alpha particle-proton mass ratio',\n",
       " 'atomic mass constant',\n",
       " 'atomic mass constant energy equivalent',\n",
       " 'atomic mass constant energy equivalent in MeV',\n",
       " 'atomic mass unit-electron volt relationship',\n",
       " 'atomic mass unit-hartree relationship',\n",
       " 'atomic mass unit-hertz relationship',\n",
       " 'atomic mass unit-inverse meter relationship',\n",
       " 'atomic mass unit-joule relationship',\n",
       " 'atomic mass unit-kelvin relationship',\n",
       " 'atomic mass unit-kilogram relationship',\n",
       " 'atomic unit of 1st hyperpolarizability',\n",
       " 'atomic unit of 2nd hyperpolarizability',\n",
       " 'atomic unit of action',\n",
       " 'atomic unit of charge',\n",
       " 'atomic unit of charge density',\n",
       " 'atomic unit of current',\n",
       " 'atomic unit of electric dipole mom.',\n",
       " 'atomic unit of electric field',\n",
       " 'atomic unit of electric field gradient',\n",
       " 'atomic unit of electric polarizability',\n",
       " 'atomic unit of electric potential',\n",
       " 'atomic unit of electric quadrupole mom.',\n",
       " 'atomic unit of energy',\n",
       " 'atomic unit of force',\n",
       " 'atomic unit of length',\n",
       " 'atomic unit of mag. dipole mom.',\n",
       " 'atomic unit of mag. flux density',\n",
       " 'atomic unit of magnetizability',\n",
       " 'atomic unit of mass',\n",
       " 'atomic unit of momentum',\n",
       " 'atomic unit of permittivity',\n",
       " 'atomic unit of time',\n",
       " 'atomic unit of velocity',\n",
       " 'classical electron radius',\n",
       " 'conductance quantum',\n",
       " 'conventional value of Josephson constant',\n",
       " 'conventional value of ampere-90',\n",
       " 'conventional value of coulomb-90',\n",
       " 'conventional value of farad-90',\n",
       " 'conventional value of henry-90',\n",
       " 'conventional value of ohm-90',\n",
       " 'conventional value of volt-90',\n",
       " 'conventional value of von Klitzing constant',\n",
       " 'conventional value of watt-90',\n",
       " 'deuteron g factor',\n",
       " 'deuteron mag. mom.',\n",
       " 'deuteron mag. mom. to Bohr magneton ratio',\n",
       " 'deuteron mag. mom. to nuclear magneton ratio',\n",
       " 'deuteron mass',\n",
       " 'deuteron mass energy equivalent',\n",
       " 'deuteron mass energy equivalent in MeV',\n",
       " 'deuteron mass in u',\n",
       " 'deuteron molar mass',\n",
       " 'deuteron relative atomic mass',\n",
       " 'deuteron rms charge radius',\n",
       " 'deuteron-electron mag. mom. ratio',\n",
       " 'deuteron-electron mass ratio',\n",
       " 'deuteron-neutron mag. mom. ratio',\n",
       " 'deuteron-proton mag. mom. ratio',\n",
       " 'deuteron-proton mass ratio',\n",
       " 'electron charge to mass quotient',\n",
       " 'electron g factor',\n",
       " 'electron gyromag. ratio',\n",
       " 'electron gyromag. ratio in MHz/T',\n",
       " 'electron mag. mom.',\n",
       " 'electron mag. mom. anomaly',\n",
       " 'electron mag. mom. to Bohr magneton ratio',\n",
       " 'electron mag. mom. to nuclear magneton ratio',\n",
       " 'electron mass',\n",
       " 'electron mass energy equivalent',\n",
       " 'electron mass energy equivalent in MeV',\n",
       " 'electron mass in u',\n",
       " 'electron molar mass',\n",
       " 'electron relative atomic mass',\n",
       " 'electron to alpha particle mass ratio',\n",
       " 'electron to shielded helion mag. mom. ratio',\n",
       " 'electron to shielded proton mag. mom. ratio',\n",
       " 'electron volt',\n",
       " 'electron volt-atomic mass unit relationship',\n",
       " 'electron volt-hartree relationship',\n",
       " 'electron volt-hertz relationship',\n",
       " 'electron volt-inverse meter relationship',\n",
       " 'electron volt-joule relationship',\n",
       " 'electron volt-kelvin relationship',\n",
       " 'electron volt-kilogram relationship',\n",
       " 'electron-deuteron mag. mom. ratio',\n",
       " 'electron-deuteron mass ratio',\n",
       " 'electron-helion mass ratio',\n",
       " 'electron-muon mag. mom. ratio',\n",
       " 'electron-muon mass ratio',\n",
       " 'electron-neutron mag. mom. ratio',\n",
       " 'electron-neutron mass ratio',\n",
       " 'electron-proton mag. mom. ratio',\n",
       " 'electron-proton mass ratio',\n",
       " 'electron-tau mass ratio',\n",
       " 'electron-triton mass ratio',\n",
       " 'elementary charge',\n",
       " 'elementary charge over h-bar',\n",
       " 'fine-structure constant',\n",
       " 'first radiation constant',\n",
       " 'first radiation constant for spectral radiance',\n",
       " 'hartree-atomic mass unit relationship',\n",
       " 'hartree-electron volt relationship',\n",
       " 'hartree-hertz relationship',\n",
       " 'hartree-inverse meter relationship',\n",
       " 'hartree-joule relationship',\n",
       " 'hartree-kelvin relationship',\n",
       " 'hartree-kilogram relationship',\n",
       " 'helion g factor',\n",
       " 'helion mag. mom.',\n",
       " 'helion mag. mom. to Bohr magneton ratio',\n",
       " 'helion mag. mom. to nuclear magneton ratio',\n",
       " 'helion mass',\n",
       " 'helion mass energy equivalent',\n",
       " 'helion mass energy equivalent in MeV',\n",
       " 'helion mass in u',\n",
       " 'helion molar mass',\n",
       " 'helion relative atomic mass',\n",
       " 'helion shielding shift',\n",
       " 'helion-electron mass ratio',\n",
       " 'helion-proton mass ratio',\n",
       " 'hertz-atomic mass unit relationship',\n",
       " 'hertz-electron volt relationship',\n",
       " 'hertz-hartree relationship',\n",
       " 'hertz-inverse meter relationship',\n",
       " 'hertz-joule relationship',\n",
       " 'hertz-kelvin relationship',\n",
       " 'hertz-kilogram relationship',\n",
       " 'hyperfine transition frequency of Cs-133',\n",
       " 'inverse fine-structure constant',\n",
       " 'inverse meter-atomic mass unit relationship',\n",
       " 'inverse meter-electron volt relationship',\n",
       " 'inverse meter-hartree relationship',\n",
       " 'inverse meter-hertz relationship',\n",
       " 'inverse meter-joule relationship',\n",
       " 'inverse meter-kelvin relationship',\n",
       " 'inverse meter-kilogram relationship',\n",
       " 'inverse of conductance quantum',\n",
       " 'joule-atomic mass unit relationship',\n",
       " 'joule-electron volt relationship',\n",
       " 'joule-hartree relationship',\n",
       " 'joule-hertz relationship',\n",
       " 'joule-inverse meter relationship',\n",
       " 'joule-kelvin relationship',\n",
       " 'joule-kilogram relationship',\n",
       " 'kelvin-atomic mass unit relationship',\n",
       " 'kelvin-electron volt relationship',\n",
       " 'kelvin-hartree relationship',\n",
       " 'kelvin-hertz relationship',\n",
       " 'kelvin-inverse meter relationship',\n",
       " 'kelvin-joule relationship',\n",
       " 'kelvin-kilogram relationship',\n",
       " 'kilogram-atomic mass unit relationship',\n",
       " 'kilogram-electron volt relationship',\n",
       " 'kilogram-hartree relationship',\n",
       " 'kilogram-hertz relationship',\n",
       " 'kilogram-inverse meter relationship',\n",
       " 'kilogram-joule relationship',\n",
       " 'kilogram-kelvin relationship',\n",
       " 'lattice parameter of silicon',\n",
       " 'lattice spacing of ideal Si (220)',\n",
       " 'luminous efficacy',\n",
       " 'mag. flux quantum',\n",
       " 'molar Planck constant',\n",
       " 'molar gas constant',\n",
       " 'molar mass constant',\n",
       " 'molar mass of carbon-12',\n",
       " 'molar volume of ideal gas (273.15 K, 100 kPa)',\n",
       " 'molar volume of ideal gas (273.15 K, 101.325 kPa)',\n",
       " 'molar volume of silicon',\n",
       " 'muon Compton wavelength',\n",
       " 'muon g factor',\n",
       " 'muon mag. mom.',\n",
       " 'muon mag. mom. anomaly',\n",
       " 'muon mag. mom. to Bohr magneton ratio',\n",
       " 'muon mag. mom. to nuclear magneton ratio',\n",
       " 'muon mass',\n",
       " 'muon mass energy equivalent',\n",
       " 'muon mass energy equivalent in MeV',\n",
       " 'muon mass in u',\n",
       " 'muon molar mass',\n",
       " 'muon-electron mass ratio',\n",
       " 'muon-neutron mass ratio',\n",
       " 'muon-proton mag. mom. ratio',\n",
       " 'muon-proton mass ratio',\n",
       " 'muon-tau mass ratio',\n",
       " 'natural unit of action',\n",
       " 'natural unit of action in eV s',\n",
       " 'natural unit of energy',\n",
       " 'natural unit of energy in MeV',\n",
       " 'natural unit of length',\n",
       " 'natural unit of mass',\n",
       " 'natural unit of momentum',\n",
       " 'natural unit of momentum in MeV/c',\n",
       " 'natural unit of time',\n",
       " 'natural unit of velocity',\n",
       " 'neutron Compton wavelength',\n",
       " 'neutron g factor',\n",
       " 'neutron gyromag. ratio',\n",
       " 'neutron gyromag. ratio in MHz/T',\n",
       " 'neutron mag. mom.',\n",
       " 'neutron mag. mom. to Bohr magneton ratio',\n",
       " 'neutron mag. mom. to nuclear magneton ratio',\n",
       " 'neutron mass',\n",
       " 'neutron mass energy equivalent',\n",
       " 'neutron mass energy equivalent in MeV',\n",
       " 'neutron mass in u',\n",
       " 'neutron molar mass',\n",
       " 'neutron relative atomic mass',\n",
       " 'neutron to shielded proton mag. mom. ratio',\n",
       " 'neutron-electron mag. mom. ratio',\n",
       " 'neutron-electron mass ratio',\n",
       " 'neutron-muon mass ratio',\n",
       " 'neutron-proton mag. mom. ratio',\n",
       " 'neutron-proton mass difference',\n",
       " 'neutron-proton mass difference energy equivalent',\n",
       " 'neutron-proton mass difference energy equivalent in MeV',\n",
       " 'neutron-proton mass difference in u',\n",
       " 'neutron-proton mass ratio',\n",
       " 'neutron-tau mass ratio',\n",
       " 'nuclear magneton',\n",
       " 'nuclear magneton in K/T',\n",
       " 'nuclear magneton in MHz/T',\n",
       " 'nuclear magneton in eV/T',\n",
       " 'nuclear magneton in inverse meter per tesla',\n",
       " 'proton Compton wavelength',\n",
       " 'proton charge to mass quotient',\n",
       " 'proton g factor',\n",
       " 'proton gyromag. ratio',\n",
       " 'proton gyromag. ratio in MHz/T',\n",
       " 'proton mag. mom.',\n",
       " 'proton mag. mom. to Bohr magneton ratio',\n",
       " 'proton mag. mom. to nuclear magneton ratio',\n",
       " 'proton mag. shielding correction',\n",
       " 'proton mass',\n",
       " 'proton mass energy equivalent',\n",
       " 'proton mass energy equivalent in MeV',\n",
       " 'proton mass in u',\n",
       " 'proton molar mass',\n",
       " 'proton relative atomic mass',\n",
       " 'proton rms charge radius',\n",
       " 'proton-electron mass ratio',\n",
       " 'proton-muon mass ratio',\n",
       " 'proton-neutron mag. mom. ratio',\n",
       " 'proton-neutron mass ratio',\n",
       " 'proton-tau mass ratio',\n",
       " 'quantum of circulation',\n",
       " 'quantum of circulation times 2',\n",
       " 'reduced Compton wavelength',\n",
       " 'reduced Planck constant',\n",
       " 'reduced Planck constant in eV s',\n",
       " 'reduced Planck constant times c in MeV fm',\n",
       " 'reduced muon Compton wavelength',\n",
       " 'reduced neutron Compton wavelength',\n",
       " 'reduced proton Compton wavelength',\n",
       " 'reduced tau Compton wavelength',\n",
       " 'second radiation constant',\n",
       " 'shielded helion gyromag. ratio',\n",
       " 'shielded helion gyromag. ratio in MHz/T',\n",
       " 'shielded helion mag. mom.',\n",
       " 'shielded helion mag. mom. to Bohr magneton ratio',\n",
       " 'shielded helion mag. mom. to nuclear magneton ratio',\n",
       " 'shielded helion to proton mag. mom. ratio',\n",
       " 'shielded helion to shielded proton mag. mom. ratio',\n",
       " 'shielded proton gyromag. ratio',\n",
       " 'shielded proton gyromag. ratio in MHz/T',\n",
       " 'shielded proton mag. mom.',\n",
       " 'shielded proton mag. mom. to Bohr magneton ratio',\n",
       " 'shielded proton mag. mom. to nuclear magneton ratio',\n",
       " 'shielding difference of d and p in HD',\n",
       " 'shielding difference of t and p in HT',\n",
       " 'speed of light in vacuum',\n",
       " 'standard acceleration of gravity',\n",
       " 'standard atmosphere',\n",
       " 'standard-state pressure',\n",
       " 'tau Compton wavelength',\n",
       " 'tau energy equivalent',\n",
       " 'tau mass',\n",
       " 'tau mass energy equivalent',\n",
       " 'tau mass in u',\n",
       " 'tau molar mass',\n",
       " 'tau-electron mass ratio',\n",
       " 'tau-muon mass ratio',\n",
       " 'tau-neutron mass ratio',\n",
       " 'tau-proton mass ratio',\n",
       " 'triton g factor',\n",
       " 'triton mag. mom.',\n",
       " 'triton mag. mom. to Bohr magneton ratio',\n",
       " 'triton mag. mom. to nuclear magneton ratio',\n",
       " 'triton mass',\n",
       " 'triton mass energy equivalent',\n",
       " 'triton mass energy equivalent in MeV',\n",
       " 'triton mass in u',\n",
       " 'triton molar mass',\n",
       " 'triton relative atomic mass',\n",
       " 'triton to proton mag. mom. ratio',\n",
       " 'triton-electron mass ratio',\n",
       " 'triton-proton mass ratio',\n",
       " 'unified atomic mass unit',\n",
       " 'vacuum electric permittivity',\n",
       " 'vacuum mag. permeability',\n",
       " 'von Klitzing constant',\n",
       " 'weak mixing angle']"
      ]
     },
     "execution_count": 108,
     "metadata": {},
     "output_type": "execute_result"
    }
   ],
   "source": [
    "scipy.constants.find()"
   ]
  },
  {
   "cell_type": "code",
   "execution_count": 109,
   "metadata": {},
   "outputs": [
    {
     "data": {
      "text/plain": [
       "['Planck constant',\n",
       " 'Planck constant in eV/Hz',\n",
       " 'Planck length',\n",
       " 'Planck mass',\n",
       " 'Planck mass energy equivalent in GeV',\n",
       " 'Planck temperature',\n",
       " 'Planck time',\n",
       " 'molar Planck constant',\n",
       " 'reduced Planck constant',\n",
       " 'reduced Planck constant in eV s',\n",
       " 'reduced Planck constant times c in MeV fm']"
      ]
     },
     "execution_count": 109,
     "metadata": {},
     "output_type": "execute_result"
    }
   ],
   "source": [
    "#getting specific constant\n",
    "scipy.constants.find(\"Planck\")"
   ]
  },
  {
   "cell_type": "code",
   "execution_count": 111,
   "metadata": {},
   "outputs": [
    {
     "data": {
      "text/plain": [
       "(6.62607015e-34, 'J Hz^-1', 0.0)"
      ]
     },
     "execution_count": 111,
     "metadata": {},
     "output_type": "execute_result"
    }
   ],
   "source": [
    "# Physcical_Constant method\n",
    "scipy.constants.physical_constants[\"Planck constant\"]"
   ]
  },
  {
   "cell_type": "code",
   "execution_count": 112,
   "metadata": {},
   "outputs": [
    {
     "data": {
      "text/plain": [
       "6.62607015e-34"
      ]
     },
     "execution_count": 112,
     "metadata": {},
     "output_type": "execute_result"
    }
   ],
   "source": [
    "# Return value of particular constant\n",
    "scipy.constants.value(\"Planck constant\")"
   ]
  },
  {
   "cell_type": "code",
   "execution_count": 113,
   "metadata": {},
   "outputs": [
    {
     "data": {
      "text/plain": [
       "1.380649e-23"
      ]
     },
     "execution_count": 113,
     "metadata": {},
     "output_type": "execute_result"
    }
   ],
   "source": [
    "scipy.constants.value(\"Boltzmann constant\")"
   ]
  },
  {
   "cell_type": "code",
   "execution_count": 115,
   "metadata": {},
   "outputs": [
    {
     "data": {
      "text/plain": [
       "3.141592653589793"
      ]
     },
     "execution_count": 115,
     "metadata": {},
     "output_type": "execute_result"
    }
   ],
   "source": [
    "scipy.constants.pi"
   ]
  },
  {
   "cell_type": "code",
   "execution_count": null,
   "metadata": {},
   "outputs": [],
   "source": []
  }
 ],
 "metadata": {
  "kernelspec": {
   "display_name": "Python 3",
   "language": "python",
   "name": "python3"
  },
  "language_info": {
   "codemirror_mode": {
    "name": "ipython",
    "version": 3
   },
   "file_extension": ".py",
   "mimetype": "text/x-python",
   "name": "python",
   "nbconvert_exporter": "python",
   "pygments_lexer": "ipython3",
   "version": "3.7.4"
  }
 },
 "nbformat": 4,
 "nbformat_minor": 2
}
